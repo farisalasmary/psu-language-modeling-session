{
  "cells": [
    {
      "cell_type": "markdown",
      "metadata": {
        "id": "ydDT3oL-c5d8"
      },
      "source": [
        "# Some LM Applications"
      ]
    },
    {
      "cell_type": "code",
      "execution_count": null,
      "metadata": {
        "id": "hoIkrM4zgjIh"
      },
      "outputs": [],
      "source": []
    },
    {
      "cell_type": "code",
      "execution_count": 1,
      "metadata": {
        "colab": {
          "base_uri": "https://localhost:8080/"
        },
        "id": "ih-sQFkETUJr",
        "outputId": "c95e28d2-f0f4-43ec-aecc-a6786c677a5f"
      },
      "outputs": [
        {
          "output_type": "stream",
          "name": "stdout",
          "text": [
            "Looking in indexes: https://pypi.org/simple, https://us-python.pkg.dev/colab-wheels/public/simple/\n",
            "Collecting pypi-kenlm\n",
            "  Downloading pypi-kenlm-0.1.20220713.tar.gz (278 kB)\n",
            "\u001b[K     |████████████████████████████████| 278 kB 5.0 MB/s \n",
            "\u001b[?25hBuilding wheels for collected packages: pypi-kenlm\n",
            "  Building wheel for pypi-kenlm (setup.py) ... \u001b[?25l\u001b[?25hdone\n",
            "  Created wheel for pypi-kenlm: filename=pypi_kenlm-0.1.20220713-cp37-cp37m-linux_x86_64.whl size=2375659 sha256=321553ca959f65f674925f6cd412d76950e85b55834501e561904356c23fb33f\n",
            "  Stored in directory: /root/.cache/pip/wheels/46/21/e9/ccc1e404dcb31fa3d7fdbfdee5a1419eb411e7b1c32622cee3\n",
            "Successfully built pypi-kenlm\n",
            "Installing collected packages: pypi-kenlm\n",
            "Successfully installed pypi-kenlm-0.1.20220713\n",
            "Looking in indexes: https://pypi.org/simple, https://us-python.pkg.dev/colab-wheels/public/simple/\n",
            "Collecting git+https://github.com/pzelasko/kaldialign.git\n",
            "  Cloning https://github.com/pzelasko/kaldialign.git to /tmp/pip-req-build-x3v008r5\n",
            "  Running command git clone -q https://github.com/pzelasko/kaldialign.git /tmp/pip-req-build-x3v008r5\n",
            "Building wheels for collected packages: kaldialign\n",
            "  Building wheel for kaldialign (setup.py) ... \u001b[?25l\u001b[?25hdone\n",
            "  Created wheel for kaldialign: filename=kaldialign-0.5-cp37-cp37m-linux_x86_64.whl size=49134 sha256=0c8638b541cf39d7d11cbf788f4273a3292a5a8057b36df5b58b8ee414e35c30\n",
            "  Stored in directory: /tmp/pip-ephem-wheel-cache-trceubph/wheels/90/0e/ba/a4bb26878d43e39245cb17e5f23d2d0472114412fccf945879\n",
            "Successfully built kaldialign\n",
            "Installing collected packages: kaldialign\n",
            "Successfully installed kaldialign-0.5\n"
          ]
        }
      ],
      "source": [
        "# install libraries\n",
        "!pip install pypi-kenlm\n",
        "!pip install git+https://github.com/pzelasko/kaldialign.git"
      ]
    },
    {
      "cell_type": "code",
      "execution_count": 2,
      "metadata": {
        "id": "Ztsl4V8Ij42u"
      },
      "outputs": [],
      "source": [
        "import kenlm\n",
        "from kaldialign import edit_distance\n",
        "from tqdm.notebook import tqdm"
      ]
    },
    {
      "cell_type": "code",
      "execution_count": 3,
      "metadata": {
        "colab": {
          "base_uri": "https://localhost:8080/"
        },
        "id": "TJqNBOtXm9mE",
        "outputId": "00924d54-ebe8-4dc3-e4d5-5c2570cddc86"
      },
      "outputs": [
        {
          "output_type": "stream",
          "name": "stdout",
          "text": [
            "Mounted at /content/drive\n"
          ]
        }
      ],
      "source": [
        "import sys\n",
        "from google.colab import drive\n",
        "drive.mount('/content/drive')\n",
        "experiment_folder = '/content/drive/My Drive/my_projects/PSU_language_models_session/lm_models'\n",
        "sys.path.append(experiment_folder)"
      ]
    },
    {
      "cell_type": "markdown",
      "metadata": {
        "id": "szWlE3NZHlj7"
      },
      "source": [
        "# Load the model"
      ]
    },
    {
      "cell_type": "code",
      "execution_count": 4,
      "metadata": {
        "id": "0QVyu49MND8i"
      },
      "outputs": [],
      "source": [
        "# Copy the language model that we've created in the previous notebook (2- Train N-Gram Language Model.ipynb)\n",
        "# as well as the vocab list\n",
        "!cp '/content/drive/My Drive/my_projects/PSU_language_models_session/lm_models/Clean_SaudiYoum_n_Ryiadh_text_lm.bin' /content/Clean_SaudiYoum_n_Ryiadh_text_lm.bin\n",
        "!cp '/content/drive/My Drive/my_projects/PSU_language_models_session/data/vocab_list.txt' /content/vocab_list.txt\n",
        "!cp '/content/drive/My Drive/my_projects/PSU_language_models_session/lm_models/vocab_for_lm.txt' /content/vocab_for_lm.txt"
      ]
    },
    {
      "cell_type": "code",
      "execution_count": 4,
      "metadata": {
        "id": "Y1F2Qfac8O9D"
      },
      "outputs": [],
      "source": []
    },
    {
      "cell_type": "code",
      "execution_count": 5,
      "metadata": {
        "id": "CmpA3gaO8O_8"
      },
      "outputs": [],
      "source": [
        "# Load the language model\n",
        "model = kenlm.Model('/content/Clean_SaudiYoum_n_Ryiadh_text_lm.bin')"
      ]
    },
    {
      "cell_type": "code",
      "source": [
        "# Use the language model to compute the sentence score\n",
        "# NOTE: the model returns the log_ 10 probability for numerical stability during computations\n",
        "# So, to retrieve back the probability, use 10^(score)\n",
        "text = 'بسم الله الرحمن الرحيم'\n",
        "my_score = model.score(text, bos=True, eos=False)\n",
        "my_score, 10 ** (my_score), '{:.30f}'.format(10 ** (my_score))"
      ],
      "metadata": {
        "colab": {
          "base_uri": "https://localhost:8080/"
        },
        "id": "-Zd3tD_7auLq",
        "outputId": "65822d70-613c-425e-ec47-3574035ca3f5"
      },
      "execution_count": 6,
      "outputs": [
        {
          "output_type": "execute_result",
          "data": {
            "text/plain": [
              "(-4.291532516479492,\n",
              " 5.1105481392884234e-05,\n",
              " '0.000051105481392884233738521660')"
            ]
          },
          "metadata": {},
          "execution_count": 6
        }
      ]
    },
    {
      "cell_type": "code",
      "source": [
        "text = 'الرحيم بسم الرحمن'\n",
        "my_score = model.score(text, bos=True, eos=False)\n",
        "my_score, 10 ** (my_score), '{:.30f}'.format(10 ** (my_score))"
      ],
      "metadata": {
        "colab": {
          "base_uri": "https://localhost:8080/"
        },
        "id": "51yYXDx6auQx",
        "outputId": "60248d80-99b4-4e89-ee23-fc5ec47f7b3a"
      },
      "execution_count": 7,
      "outputs": [
        {
          "output_type": "execute_result",
          "data": {
            "text/plain": [
              "(-13.733052253723145,\n",
              " 1.849046130870516e-14,\n",
              " '0.000000000000018490461308705160')"
            ]
          },
          "metadata": {},
          "execution_count": 7
        }
      ]
    },
    {
      "cell_type": "code",
      "source": [],
      "metadata": {
        "id": "z51dxAcLa7_a"
      },
      "execution_count": 7,
      "outputs": []
    },
    {
      "cell_type": "code",
      "execution_count": 8,
      "metadata": {
        "id": "g-zJwLBTQ7ZG"
      },
      "outputs": [],
      "source": [
        "def load_vocab(filepath):\n",
        "    with open(filepath) as f1:\n",
        "        return [word.strip().split()[0] for word in f1]"
      ]
    },
    {
      "cell_type": "code",
      "execution_count": 9,
      "metadata": {
        "id": "-YtKX7spJqMS"
      },
      "outputs": [],
      "source": [
        "# This function uses the LM model to compute a score for each word of a given\n",
        "# list of words (vocab) in a certain context specified by (text). It then sorts\n",
        "# them from the most probable words to the least probable words.\n",
        "def predict_next_topk_word(text, model, vocab, topk=None):\n",
        "    words_with_scores = []\n",
        "    for word in vocab:\n",
        "        candidate_text = text.strip() + ' ' + word.strip()\n",
        "        score = model.score(candidate_text, bos=True, eos=False)\n",
        "        words_with_scores.append((word, score))\n",
        "    \n",
        "    words_with_scores = sorted(words_with_scores, key=lambda x: x[1], reverse=True)\n",
        "    if topk is None:\n",
        "        return words_with_scores\n",
        "    return words_with_scores[:topk]"
      ]
    },
    {
      "cell_type": "code",
      "execution_count": 9,
      "metadata": {
        "id": "r2kxFiIq484d"
      },
      "outputs": [],
      "source": []
    },
    {
      "cell_type": "code",
      "execution_count": 10,
      "metadata": {
        "id": "b72WJDvo488x"
      },
      "outputs": [],
      "source": [
        "# Load the list of words that we prepared earlier\n",
        "my_vocab = load_vocab('/content/vocab_for_lm.txt')"
      ]
    },
    {
      "cell_type": "code",
      "execution_count": 11,
      "metadata": {
        "id": "7rGfQfAVSnBG"
      },
      "outputs": [],
      "source": [
        "# This works as follows: given the text 'بسم الله', what is the most probable 10 words\n",
        "# that may be used as the next word in this context\n",
        "text = 'بسم الله'\n",
        "words_with_scores = predict_next_topk_word(text, model, vocab=my_vocab, topk=10)"
      ]
    },
    {
      "cell_type": "code",
      "execution_count": 12,
      "metadata": {
        "colab": {
          "base_uri": "https://localhost:8080/"
        },
        "id": "kEK7oSAQSnDc",
        "outputId": "f15cc687-3e38-45eb-aa0a-7a8adfc6a6d5"
      },
      "outputs": [
        {
          "output_type": "execute_result",
          "data": {
            "text/plain": [
              "[('الرحمن', -4.289695739746094),\n",
              " ('والحمد', -6.086951732635498),\n",
              " ('وعلى', -6.1923418045043945),\n",
              " ('عليك', -6.247007369995117),\n",
              " ('والصلاة', -6.323607444763184),\n",
              " ('القائل', -6.352502822875977),\n",
              " ('أبدا', -6.424803733825684),\n",
              " ('ابدأ', -6.4393510818481445),\n",
              " ('وأصلي', -6.439394474029541),\n",
              " ('ما', -6.467808246612549)]"
            ]
          },
          "metadata": {},
          "execution_count": 12
        }
      ],
      "source": [
        "words_with_scores"
      ]
    },
    {
      "cell_type": "code",
      "source": [],
      "metadata": {
        "id": "Q-CYdOs2diun"
      },
      "execution_count": 12,
      "outputs": []
    },
    {
      "cell_type": "code",
      "execution_count": 13,
      "metadata": {
        "id": "bkXjQ5VkPm5o"
      },
      "outputs": [],
      "source": [
        "# This fucntion uses the \"predict_next_topk_word\" to generate text of \"n_words\"\n",
        "# using the greedy approach, i.e., picking the most probable word each time\n",
        "def generate_text(seed_text, n_words, model, vocab):\n",
        "    for i in tqdm(range(n_words)):\n",
        "        words_with_scores = predict_next_topk_word(seed_text, model, vocab)\n",
        "        most_probable_word = words_with_scores[0][0]\n",
        "        seed_text += ' ' + most_probable_word\n",
        "    return seed_text"
      ]
    },
    {
      "cell_type": "code",
      "execution_count": 14,
      "metadata": {
        "colab": {
          "base_uri": "https://localhost:8080/",
          "height": 49,
          "referenced_widgets": [
            "d00be914542649778c13b593706c487d",
            "4fc54b65dca544bdb561e7db7d85a8f9",
            "eb6e7673a44e4f46a0220e33c318ee21",
            "ce8d29027e604d6e8c38d27ed418f5e9",
            "edd7c4e08c484aa7a563a70950abacb4",
            "3fde737a90fa4f429e2fba44c8aa2167",
            "9f3094fdf8244898932e941beaba82db",
            "b31169cc3b9544fd9a5cff3de3013b91",
            "7a1d3f3762c642ffa6b5435785ca7e7e",
            "920ec501cdc1495e80c92ec328b933cd",
            "ca80ddedf3684abcabb762283e4f0558"
          ]
        },
        "id": "Op56DVeRPnAQ",
        "outputId": "20858b0a-ac8f-4599-f4f9-993d87f5e6aa"
      },
      "outputs": [
        {
          "output_type": "display_data",
          "data": {
            "text/plain": [
              "  0%|          | 0/20 [00:00<?, ?it/s]"
            ],
            "application/vnd.jupyter.widget-view+json": {
              "version_major": 2,
              "version_minor": 0,
              "model_id": "d00be914542649778c13b593706c487d"
            }
          },
          "metadata": {}
        }
      ],
      "source": [
        "seed_text = 'نحن فهد'\n",
        "generated_text = generate_text(seed_text, n_words=20, model=model, vocab=my_vocab)"
      ]
    },
    {
      "cell_type": "code",
      "source": [
        "generated_text"
      ],
      "metadata": {
        "colab": {
          "base_uri": "https://localhost:8080/",
          "height": 36
        },
        "id": "rB1nR4JKd93Y",
        "outputId": "26cc05c1-0dac-4302-f241-da44e91b755e"
      },
      "execution_count": 15,
      "outputs": [
        {
          "output_type": "execute_result",
          "data": {
            "text/plain": [
              "'نحن فهد بن عبدالعزيز أمير منطقة الرياض وصاحب السمو الملكي الأمير سلطان بن عبدالعزيز آل سعود حفظه الله في قصره بالرياض مساء'"
            ],
            "application/vnd.google.colaboratory.intrinsic+json": {
              "type": "string"
            }
          },
          "metadata": {},
          "execution_count": 15
        }
      ]
    },
    {
      "cell_type": "code",
      "source": [],
      "metadata": {
        "id": "8Eg4x5gxd99E"
      },
      "execution_count": 15,
      "outputs": []
    },
    {
      "cell_type": "code",
      "execution_count": 16,
      "metadata": {
        "id": "4kStWxAwsYml"
      },
      "outputs": [],
      "source": [
        "# This function takes a sentence of misspelled words and return the most probable\n",
        "# correct sentence based on the scores from the language model and the edit \n",
        "# distance (Levenshtein distance).\n",
        "# NOTE: this function assumes that the first word is ALWAYS correct. This assumption\n",
        "# could be removed if we use the language model to generate the most probable list \n",
        "# of words to start the sentence with and measure the edit distance to select the\n",
        "# word with the minimum edit distance. You can try it!!!\n",
        "def autocorrect(text, model, vocab):\n",
        "    vocab = set(vocab) # for faster search\n",
        "    words = text.strip().split(' ')\n",
        "    corrected_words = []\n",
        "    for i, word in enumerate(words):\n",
        "        # This if statement implements the assumption that we stated above\n",
        "        if i == 0:\n",
        "            corrected_words = [word]\n",
        "            continue\n",
        "\n",
        "        # Get the most probable 3 words given the corrected words so far as a context\n",
        "        corrected_text = ' '.join(corrected_words)\n",
        "        words_with_scores = predict_next_topk_word(corrected_text, model, vocab, topk=3)\n",
        "        best_min_distance = 1e10\n",
        "        best_max_score = -1e10\n",
        "        best_candidate_word = ''\n",
        "        \n",
        "        # Find the best candidate from the 3 words selected by the language model\n",
        "        for candidate_word, score in words_with_scores:\n",
        "            hyp = word\n",
        "            ref = candidate_word\n",
        "            ref, hyp = ref.replace(' ', '').strip(), hyp.replace(' ', '').strip()\n",
        "            info = edit_distance(ref, hyp)\n",
        "            distance = info['total'] # \"total\" means the calculated Levenshtein distance\n",
        "            candidate_text = ' '.join(corrected_words + [candidate_word]) # compute the score of the sentance\n",
        "            score = model.score(candidate_text, bos=True, eos=False)\n",
        "            if best_min_distance > distance and best_max_score < score:\n",
        "                best_min_distance = distance\n",
        "                best_max_score = score\n",
        "                best_candidate_word = candidate_word\n",
        "            \n",
        "        corrected_words.append(best_candidate_word)\n",
        "    final_corrected_text = ' '.join(corrected_words)\n",
        "    return final_corrected_text"
      ]
    },
    {
      "cell_type": "code",
      "execution_count": 17,
      "metadata": {
        "colab": {
          "base_uri": "https://localhost:8080/",
          "height": 36
        },
        "id": "jGIxhRgXQl2E",
        "outputId": "3bcb8225-a023-4cb4-e062-a51c1a61bb7c"
      },
      "outputs": [
        {
          "output_type": "execute_result",
          "data": {
            "text/plain": [
              "'بسم الله الرحمن الرحيم'"
            ],
            "application/vnd.google.colaboratory.intrinsic+json": {
              "type": "string"
            }
          },
          "metadata": {},
          "execution_count": 17
        }
      ],
      "source": [
        "# correct text is: 'بسم الله الرحمن الرحيم'\n",
        "text = 'بسم الللة الرحماني الرحمو'\n",
        "autocorrect(text, model, my_vocab)"
      ]
    },
    {
      "cell_type": "code",
      "execution_count": 18,
      "metadata": {
        "colab": {
          "base_uri": "https://localhost:8080/",
          "height": 36
        },
        "id": "rGS4Ebrpn28d",
        "outputId": "4e8f831c-3077-473e-c0e4-914f4e70dcf4"
      },
      "outputs": [
        {
          "output_type": "execute_result",
          "data": {
            "text/plain": [
              "'السلام عليكم ورحمة الله وبركاته'"
            ],
            "application/vnd.google.colaboratory.intrinsic+json": {
              "type": "string"
            }
          },
          "metadata": {},
          "execution_count": 18
        }
      ],
      "source": [
        "# correct text is: 'السلام عليكم ورحمة الله وبركاته'\n",
        "text = 'السلام علكم رحمممه لاللة بركته'\n",
        "autocorrect(text, model, my_vocab)"
      ]
    },
    {
      "cell_type": "code",
      "execution_count": 19,
      "metadata": {
        "colab": {
          "base_uri": "https://localhost:8080/"
        },
        "id": "J0F1IyHpvTDt",
        "outputId": "bf57e504-bdf4-41f5-d914-d1308f91a307"
      },
      "outputs": [
        {
          "output_type": "execute_result",
          "data": {
            "text/plain": [
              "('أنا فتاة في', True)"
            ]
          },
          "metadata": {},
          "execution_count": 19
        }
      ],
      "source": [
        "# Some times if the sentence is unexpected, this will happen :)\n",
        "text = 'أنا أحب ابها'\n",
        "autocorrect(text, model, my_vocab), 'أحب' in  my_vocab"
      ]
    },
    {
      "cell_type": "code",
      "source": [],
      "metadata": {
        "id": "c-GpAL_izfpe"
      },
      "execution_count": 19,
      "outputs": []
    },
    {
      "cell_type": "markdown",
      "source": [
        "# Combining All Functions in One Single Class"
      ],
      "metadata": {
        "id": "iu4H1xDAzmuG"
      }
    },
    {
      "cell_type": "code",
      "source": [],
      "metadata": {
        "id": "0FCQI8-XzgdA"
      },
      "execution_count": 19,
      "outputs": []
    },
    {
      "cell_type": "code",
      "execution_count": 27,
      "metadata": {
        "id": "8hpPjEeMsMs0"
      },
      "outputs": [],
      "source": [
        "# This class contains all the impelmented functions above as methods.\n",
        "class LMScorer:\n",
        "    def __init__(self, vocab_filepath):\n",
        "        self.vocab = self.load_vocab(vocab_filepath)\n",
        "        self.max_word_len = max(len(x) for x in self.vocab)\n",
        "\n",
        "    def load_vocab(self, filepath):\n",
        "        with open(filepath) as f1:\n",
        "            return [word.strip().split()[0] for word in f1]\n",
        "\n",
        "    def predict_next_topk_word(self, text, topk=None):\n",
        "        words_with_scores = []\n",
        "        for word in self.vocab:\n",
        "            candidate_text = text.strip() + ' ' + word.strip()\n",
        "            score = self.score(candidate_text)\n",
        "            words_with_scores.append((word, score))\n",
        "        words_with_scores = sorted(words_with_scores, key=lambda x: x[1], reverse=True) # reverse=True means descending order\n",
        "        if topk is None:\n",
        "            return words_with_scores\n",
        "        return words_with_scores[:topk]\n",
        "\n",
        "\n",
        "    def autocorrect(self, text):\n",
        "        words = text.strip().split(' ')\n",
        "        corrected_words = []\n",
        "        for i, word in enumerate(words):\n",
        "            # TODO: this part assumes that the first word in the given sentance\n",
        "            # is always correct. We may use the language model to fix it as well\n",
        "            # but for simplicity we will impose this assumption.\n",
        "            if i == 0:\n",
        "                corrected_words = [word]\n",
        "                continue\n",
        "            corrected_text = ' '.join(corrected_words)\n",
        "            words_with_scores = self.predict_next_topk_word(corrected_text, topk=3)\n",
        "            best_min_distance = 1e10\n",
        "            best_max_score = -1e10\n",
        "            best_candidate_word = ''\n",
        "            for candidate_word, score in words_with_scores:\n",
        "                hyp = word\n",
        "                ref = candidate_word\n",
        "                ref, hyp = ref.replace(' ', '').strip(), hyp.replace(' ', '').strip()\n",
        "                info = edit_distance(ref, hyp)\n",
        "                distance = info['total']\n",
        "                candidate_text = ' '.join(corrected_words + [candidate_word]) # compute the score of the sentance\n",
        "                score = self.score(candidate_text)\n",
        "                if best_min_distance > distance and best_max_score < score:\n",
        "                    best_min_distance = distance\n",
        "                    best_max_score = score\n",
        "                    best_candidate_word = candidate_word\n",
        "            corrected_words.append(best_candidate_word)\n",
        "        final_corrected_text = ' '.join(corrected_words)\n",
        "        return final_corrected_text\n",
        "    \n",
        "    # This method is used to split connected words in a sentence\n",
        "    def infer_spaces(self, s):\n",
        "        # I borrowed this code and tweaked it a bit. See references below:\n",
        "        # http://stackoverflow.com/a/11642687/2449774\n",
        "        # https://github.com/keredson/wordninja\n",
        "        \"\"\"Uses dynamic programming to infer the location of spaces in a string\n",
        "        without spaces.\"\"\"\n",
        "\n",
        "        # Find the best match for the i first characters, assuming cost has\n",
        "        # been built for the i-1 first characters.\n",
        "        # Returns a pair (match_cost, match_length).\n",
        "        def best_match(i):\n",
        "            candidates = enumerate(reversed(cost[max(0, i-self.max_word_len):i]))\n",
        "            cands = []\n",
        "            for k,c in candidates:\n",
        "                cand_cost = 9e999\n",
        "                cand_word = s[i-k-1:i]\n",
        "                if cand_word in self.vocab:\n",
        "                    cand_cost = -self.score(cand_word, bos=False, eos=False) #self.wordcost[cand_word]\n",
        "                cands.append((c + cand_cost, k+1))\n",
        "            return min(cands)\n",
        "\n",
        "        # Build the cost array.\n",
        "        cost = [0]\n",
        "        for i in range(1,len(s)+1):\n",
        "            c, k = best_match(i)\n",
        "            #print(c, k)\n",
        "            cost.append(c)\n",
        "\n",
        "        # Backtrack to recover the minimal-cost string.\n",
        "        out = []\n",
        "        i = len(s)\n",
        "        while i > 0:\n",
        "            c, k = best_match(i)\n",
        "            #print('c, k, i:', c, k, i)\n",
        "            assert c == cost[i]\n",
        "            out.append(s[i-k:i])\n",
        "            i -= k\n",
        "\n",
        "        return \" \".join(reversed(out))\n",
        "\n",
        "    def generate_text(self, seed_text, n_words, verbose=False):\n",
        "        iter = tqdm(range(n_words)) if verbose else range(n_words)\n",
        "        for i in tqdm(range(n_words)):\n",
        "            words_with_scores = self.predict_next_topk_word(seed_text, topk=1) # greedy approach\n",
        "            most_probable_word = words_with_scores[0][0]\n",
        "            seed_text += ' ' + most_probable_word\n",
        "        return seed_text\n",
        "\n",
        "\n",
        "    def score(self, text, bos=False, eos=False):\n",
        "        raise NotImplementedError"
      ]
    },
    {
      "cell_type": "code",
      "execution_count": 27,
      "metadata": {
        "id": "K2Y8hLx8YJqS"
      },
      "outputs": [],
      "source": []
    },
    {
      "cell_type": "code",
      "execution_count": 28,
      "metadata": {
        "id": "PbppuuWjYHtq"
      },
      "outputs": [],
      "source": [
        "class KenLMScorer(LMScorer):\n",
        "    def __init__(self, lm_path, vocab_filepath):\n",
        "        super().__init__(vocab_filepath)\n",
        "        self.model = kenlm.Model(lm_path)\n",
        "\n",
        "    def score(self, text, bos=True, eos=False):\n",
        "        return self.model.score(text, bos=bos, eos=eos)"
      ]
    },
    {
      "cell_type": "code",
      "execution_count": 29,
      "metadata": {
        "id": "OZZnfFI_YHvp"
      },
      "outputs": [],
      "source": [
        "my_scorer = KenLMScorer(lm_path='/content/Clean_SaudiYoum_n_Ryiadh_text_lm.bin', vocab_filepath='/content/vocab_for_lm.txt')"
      ]
    },
    {
      "cell_type": "code",
      "execution_count": 30,
      "metadata": {
        "colab": {
          "base_uri": "https://localhost:8080/"
        },
        "id": "STx41F8ZcNRS",
        "outputId": "84836e06-a8b9-4290-c1ce-4669e3a5f73b"
      },
      "outputs": [
        {
          "output_type": "stream",
          "name": "stdout",
          "text": [
            "السلام عليكم ورحمة الله وبركاته\n"
          ]
        }
      ],
      "source": [
        "s = 'السلامعليكمورحمةاللهوبركاته'\n",
        "print(my_scorer.infer_spaces(s))"
      ]
    },
    {
      "cell_type": "code",
      "execution_count": 31,
      "metadata": {
        "colab": {
          "base_uri": "https://localhost:8080/"
        },
        "id": "rMdUEiVQhZJA",
        "outputId": "95ac8d2b-4844-4d09-9a41-b8f02fe6cc7b"
      },
      "outputs": [
        {
          "output_type": "stream",
          "name": "stdout",
          "text": [
            "كيف يمكنك فعل ذلك\n"
          ]
        }
      ],
      "source": [
        "s = 'كيفيمكنكفعلذلك'\n",
        "print(my_scorer.infer_spaces(s))\n"
      ]
    },
    {
      "cell_type": "code",
      "execution_count": 32,
      "metadata": {
        "colab": {
          "base_uri": "https://localhost:8080/"
        },
        "id": "-HXvpk4ChZMK",
        "outputId": "a361922b-4c72-44b8-cc73-751d4bebc02f"
      },
      "outputs": [
        {
          "output_type": "stream",
          "name": "stdout",
          "text": [
            "بسم الله الرحمن الرحيم\n"
          ]
        }
      ],
      "source": [
        "s = 'بسماللهالرحمنالرحيم'\n",
        "print(my_scorer.infer_spaces(s))"
      ]
    },
    {
      "cell_type": "code",
      "execution_count": 33,
      "metadata": {
        "colab": {
          "base_uri": "https://localhost:8080/"
        },
        "id": "yoUU647_hZPA",
        "outputId": "368041b1-31a1-48d2-c5f9-7f1cf4dc5d21"
      },
      "outputs": [
        {
          "output_type": "stream",
          "name": "stdout",
          "text": [
            "هل فعلا هذا الشيء ممكن عمله بهذه الطريقة باستخدام نموذج اللغة\n"
          ]
        }
      ],
      "source": [
        "s = 'هلفعلاهذاالشيءممكنعملهبهذهالطريقةباستخدامنموذجاللغة'\n",
        "print(my_scorer.infer_spaces(s))"
      ]
    },
    {
      "cell_type": "code",
      "source": [],
      "metadata": {
        "id": "zqJ-bXAkL_71"
      },
      "execution_count": 33,
      "outputs": []
    }
  ],
  "metadata": {
    "colab": {
      "collapsed_sections": [],
      "provenance": []
    },
    "gpuClass": "standard",
    "kernelspec": {
      "display_name": "Python 3",
      "name": "python3"
    },
    "language_info": {
      "name": "python"
    },
    "widgets": {
      "application/vnd.jupyter.widget-state+json": {
        "d00be914542649778c13b593706c487d": {
          "model_module": "@jupyter-widgets/controls",
          "model_name": "HBoxModel",
          "model_module_version": "1.5.0",
          "state": {
            "_dom_classes": [],
            "_model_module": "@jupyter-widgets/controls",
            "_model_module_version": "1.5.0",
            "_model_name": "HBoxModel",
            "_view_count": null,
            "_view_module": "@jupyter-widgets/controls",
            "_view_module_version": "1.5.0",
            "_view_name": "HBoxView",
            "box_style": "",
            "children": [
              "IPY_MODEL_4fc54b65dca544bdb561e7db7d85a8f9",
              "IPY_MODEL_eb6e7673a44e4f46a0220e33c318ee21",
              "IPY_MODEL_ce8d29027e604d6e8c38d27ed418f5e9"
            ],
            "layout": "IPY_MODEL_edd7c4e08c484aa7a563a70950abacb4"
          }
        },
        "4fc54b65dca544bdb561e7db7d85a8f9": {
          "model_module": "@jupyter-widgets/controls",
          "model_name": "HTMLModel",
          "model_module_version": "1.5.0",
          "state": {
            "_dom_classes": [],
            "_model_module": "@jupyter-widgets/controls",
            "_model_module_version": "1.5.0",
            "_model_name": "HTMLModel",
            "_view_count": null,
            "_view_module": "@jupyter-widgets/controls",
            "_view_module_version": "1.5.0",
            "_view_name": "HTMLView",
            "description": "",
            "description_tooltip": null,
            "layout": "IPY_MODEL_3fde737a90fa4f429e2fba44c8aa2167",
            "placeholder": "​",
            "style": "IPY_MODEL_9f3094fdf8244898932e941beaba82db",
            "value": "100%"
          }
        },
        "eb6e7673a44e4f46a0220e33c318ee21": {
          "model_module": "@jupyter-widgets/controls",
          "model_name": "FloatProgressModel",
          "model_module_version": "1.5.0",
          "state": {
            "_dom_classes": [],
            "_model_module": "@jupyter-widgets/controls",
            "_model_module_version": "1.5.0",
            "_model_name": "FloatProgressModel",
            "_view_count": null,
            "_view_module": "@jupyter-widgets/controls",
            "_view_module_version": "1.5.0",
            "_view_name": "ProgressView",
            "bar_style": "success",
            "description": "",
            "description_tooltip": null,
            "layout": "IPY_MODEL_b31169cc3b9544fd9a5cff3de3013b91",
            "max": 20,
            "min": 0,
            "orientation": "horizontal",
            "style": "IPY_MODEL_7a1d3f3762c642ffa6b5435785ca7e7e",
            "value": 20
          }
        },
        "ce8d29027e604d6e8c38d27ed418f5e9": {
          "model_module": "@jupyter-widgets/controls",
          "model_name": "HTMLModel",
          "model_module_version": "1.5.0",
          "state": {
            "_dom_classes": [],
            "_model_module": "@jupyter-widgets/controls",
            "_model_module_version": "1.5.0",
            "_model_name": "HTMLModel",
            "_view_count": null,
            "_view_module": "@jupyter-widgets/controls",
            "_view_module_version": "1.5.0",
            "_view_name": "HTMLView",
            "description": "",
            "description_tooltip": null,
            "layout": "IPY_MODEL_920ec501cdc1495e80c92ec328b933cd",
            "placeholder": "​",
            "style": "IPY_MODEL_ca80ddedf3684abcabb762283e4f0558",
            "value": " 20/20 [00:33&lt;00:00,  2.15s/it]"
          }
        },
        "edd7c4e08c484aa7a563a70950abacb4": {
          "model_module": "@jupyter-widgets/base",
          "model_name": "LayoutModel",
          "model_module_version": "1.2.0",
          "state": {
            "_model_module": "@jupyter-widgets/base",
            "_model_module_version": "1.2.0",
            "_model_name": "LayoutModel",
            "_view_count": null,
            "_view_module": "@jupyter-widgets/base",
            "_view_module_version": "1.2.0",
            "_view_name": "LayoutView",
            "align_content": null,
            "align_items": null,
            "align_self": null,
            "border": null,
            "bottom": null,
            "display": null,
            "flex": null,
            "flex_flow": null,
            "grid_area": null,
            "grid_auto_columns": null,
            "grid_auto_flow": null,
            "grid_auto_rows": null,
            "grid_column": null,
            "grid_gap": null,
            "grid_row": null,
            "grid_template_areas": null,
            "grid_template_columns": null,
            "grid_template_rows": null,
            "height": null,
            "justify_content": null,
            "justify_items": null,
            "left": null,
            "margin": null,
            "max_height": null,
            "max_width": null,
            "min_height": null,
            "min_width": null,
            "object_fit": null,
            "object_position": null,
            "order": null,
            "overflow": null,
            "overflow_x": null,
            "overflow_y": null,
            "padding": null,
            "right": null,
            "top": null,
            "visibility": null,
            "width": null
          }
        },
        "3fde737a90fa4f429e2fba44c8aa2167": {
          "model_module": "@jupyter-widgets/base",
          "model_name": "LayoutModel",
          "model_module_version": "1.2.0",
          "state": {
            "_model_module": "@jupyter-widgets/base",
            "_model_module_version": "1.2.0",
            "_model_name": "LayoutModel",
            "_view_count": null,
            "_view_module": "@jupyter-widgets/base",
            "_view_module_version": "1.2.0",
            "_view_name": "LayoutView",
            "align_content": null,
            "align_items": null,
            "align_self": null,
            "border": null,
            "bottom": null,
            "display": null,
            "flex": null,
            "flex_flow": null,
            "grid_area": null,
            "grid_auto_columns": null,
            "grid_auto_flow": null,
            "grid_auto_rows": null,
            "grid_column": null,
            "grid_gap": null,
            "grid_row": null,
            "grid_template_areas": null,
            "grid_template_columns": null,
            "grid_template_rows": null,
            "height": null,
            "justify_content": null,
            "justify_items": null,
            "left": null,
            "margin": null,
            "max_height": null,
            "max_width": null,
            "min_height": null,
            "min_width": null,
            "object_fit": null,
            "object_position": null,
            "order": null,
            "overflow": null,
            "overflow_x": null,
            "overflow_y": null,
            "padding": null,
            "right": null,
            "top": null,
            "visibility": null,
            "width": null
          }
        },
        "9f3094fdf8244898932e941beaba82db": {
          "model_module": "@jupyter-widgets/controls",
          "model_name": "DescriptionStyleModel",
          "model_module_version": "1.5.0",
          "state": {
            "_model_module": "@jupyter-widgets/controls",
            "_model_module_version": "1.5.0",
            "_model_name": "DescriptionStyleModel",
            "_view_count": null,
            "_view_module": "@jupyter-widgets/base",
            "_view_module_version": "1.2.0",
            "_view_name": "StyleView",
            "description_width": ""
          }
        },
        "b31169cc3b9544fd9a5cff3de3013b91": {
          "model_module": "@jupyter-widgets/base",
          "model_name": "LayoutModel",
          "model_module_version": "1.2.0",
          "state": {
            "_model_module": "@jupyter-widgets/base",
            "_model_module_version": "1.2.0",
            "_model_name": "LayoutModel",
            "_view_count": null,
            "_view_module": "@jupyter-widgets/base",
            "_view_module_version": "1.2.0",
            "_view_name": "LayoutView",
            "align_content": null,
            "align_items": null,
            "align_self": null,
            "border": null,
            "bottom": null,
            "display": null,
            "flex": null,
            "flex_flow": null,
            "grid_area": null,
            "grid_auto_columns": null,
            "grid_auto_flow": null,
            "grid_auto_rows": null,
            "grid_column": null,
            "grid_gap": null,
            "grid_row": null,
            "grid_template_areas": null,
            "grid_template_columns": null,
            "grid_template_rows": null,
            "height": null,
            "justify_content": null,
            "justify_items": null,
            "left": null,
            "margin": null,
            "max_height": null,
            "max_width": null,
            "min_height": null,
            "min_width": null,
            "object_fit": null,
            "object_position": null,
            "order": null,
            "overflow": null,
            "overflow_x": null,
            "overflow_y": null,
            "padding": null,
            "right": null,
            "top": null,
            "visibility": null,
            "width": null
          }
        },
        "7a1d3f3762c642ffa6b5435785ca7e7e": {
          "model_module": "@jupyter-widgets/controls",
          "model_name": "ProgressStyleModel",
          "model_module_version": "1.5.0",
          "state": {
            "_model_module": "@jupyter-widgets/controls",
            "_model_module_version": "1.5.0",
            "_model_name": "ProgressStyleModel",
            "_view_count": null,
            "_view_module": "@jupyter-widgets/base",
            "_view_module_version": "1.2.0",
            "_view_name": "StyleView",
            "bar_color": null,
            "description_width": ""
          }
        },
        "920ec501cdc1495e80c92ec328b933cd": {
          "model_module": "@jupyter-widgets/base",
          "model_name": "LayoutModel",
          "model_module_version": "1.2.0",
          "state": {
            "_model_module": "@jupyter-widgets/base",
            "_model_module_version": "1.2.0",
            "_model_name": "LayoutModel",
            "_view_count": null,
            "_view_module": "@jupyter-widgets/base",
            "_view_module_version": "1.2.0",
            "_view_name": "LayoutView",
            "align_content": null,
            "align_items": null,
            "align_self": null,
            "border": null,
            "bottom": null,
            "display": null,
            "flex": null,
            "flex_flow": null,
            "grid_area": null,
            "grid_auto_columns": null,
            "grid_auto_flow": null,
            "grid_auto_rows": null,
            "grid_column": null,
            "grid_gap": null,
            "grid_row": null,
            "grid_template_areas": null,
            "grid_template_columns": null,
            "grid_template_rows": null,
            "height": null,
            "justify_content": null,
            "justify_items": null,
            "left": null,
            "margin": null,
            "max_height": null,
            "max_width": null,
            "min_height": null,
            "min_width": null,
            "object_fit": null,
            "object_position": null,
            "order": null,
            "overflow": null,
            "overflow_x": null,
            "overflow_y": null,
            "padding": null,
            "right": null,
            "top": null,
            "visibility": null,
            "width": null
          }
        },
        "ca80ddedf3684abcabb762283e4f0558": {
          "model_module": "@jupyter-widgets/controls",
          "model_name": "DescriptionStyleModel",
          "model_module_version": "1.5.0",
          "state": {
            "_model_module": "@jupyter-widgets/controls",
            "_model_module_version": "1.5.0",
            "_model_name": "DescriptionStyleModel",
            "_view_count": null,
            "_view_module": "@jupyter-widgets/base",
            "_view_module_version": "1.2.0",
            "_view_name": "StyleView",
            "description_width": ""
          }
        }
      }
    }
  },
  "nbformat": 4,
  "nbformat_minor": 0
}